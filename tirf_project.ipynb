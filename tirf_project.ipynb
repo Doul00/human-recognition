{
 "cells": [
  {
   "cell_type": "code",
   "execution_count": null,
   "metadata": {
    "collapsed": false
   },
   "outputs": [],
   "source": [
    "import glob\n",
    "import sys\n",
    "import os\n",
    "\n",
    "from sklearn import svm\n",
    "import numpy as np\n",
    "from scipy.misc import imread\n",
    "\n",
    "import hog"
   ]
  },
  {
   "cell_type": "code",
   "execution_count": 69,
   "metadata": {
    "collapsed": true
   },
   "outputs": [],
   "source": [
    "def get_set(small=True):\n",
    "    \"\"\"\n",
    "    Return all variables needed to access either the small images dataset, or the normal one.\n",
    "    \"\"\"\n",
    "    if small:\n",
    "        return '_64x128_H96', 'train', 'test'\n",
    "    else:\n",
    "        return '', 'Train', 'Test'\n",
    "\n",
    "\n",
    "folder = 'INRIAPerson'\n",
    "folder_suffix, train_suffix, test_suffix = get_set(small=False)"
   ]
  },
  {
   "cell_type": "code",
   "execution_count": 75,
   "metadata": {
    "collapsed": true
   },
   "outputs": [],
   "source": [
    "def get_N_images(folder, folder_suffix, phase='train', validity='pos', N=None, verbose=False):\n",
    "    \"\"\"\n",
    "    Loads N images from the selected 'phase' with the choosen 'validity'. If N is None,\n",
    "    the function will load all existing images.\n",
    "    \"\"\"\n",
    "    path_regex = os.path.join(folder, phase + folder_suffix, validity, '*.png')\n",
    "    array = []\n",
    "        \n",
    "    for n, img_path in enumerate(glob.iglob(path_regex)):\n",
    "        if N is not None and n >= N:\n",
    "            return array\n",
    "        if verbose and n % 50 == 0:\n",
    "            print('{}: {}'.format(validity, n))\n",
    "        array.append(get_image(img_path))\n",
    "    \n",
    "    if verbose:\n",
    "        print('Finished {} - {}'.format(phase, validity))\n",
    "    return array\n",
    "\n",
    "\n",
    "def get_image(img_path):\n",
    "    \"\"\"\n",
    "    Return HOG features of the image from 'img_path'.\n",
    "    \"\"\"\n",
    "    return hog.get_hog_features(img_path)\n",
    "\n",
    "\n",
    "def get_N_targets(validity='pos', N=100):\n",
    "    \"\"\"\n",
    "    Return an 1d-array for the y-target, either 1 for a human positivity, else 0.\n",
    "    \"\"\"\n",
    "    if validity == 'pos':\n",
    "        return np.ones((N, 1))\n",
    "    return np.zeros((N, 1))\n",
    "\n",
    "\n",
    "def get_set(folder, folder_suffix, phase='train', N=None):\n",
    "    \"\"\"\n",
    "    Return two arrays, one for input, one for target.\n",
    "    \"\"\"\n",
    "    print('Loading in {}/{}{}'.format(folder, phase, folder_suffix))\n",
    "    \n",
    "    set_x_pos = get_N_images(folder, folder_suffix, phase=phase, validity='pos', verbose=True, N=N)\n",
    "    set_x_neg = get_N_images(folder, folder_suffix, phase=phase, validity='neg', verbose=True, N=N)\n",
    "    set_x = np.array(set_x_pos + set_x_neg).astype('float32')\n",
    "\n",
    "    set_y = np.concatenate((get_N_targets(validity='pos', N=len(set_x_pos)),\n",
    "                          get_N_targets(validity='neg', N=len(set_x_neg))))\n",
    "    \n",
    "    return set_x, set_y\n",
    "\n",
    "\n",
    "def test_accuracy(clf, test_x, test_y):\n",
    "    predictions = clf.predict(test_x)\n",
    "    return sum(1 if real == prediction else 0\n",
    "               for real, prediction in zip(test_y, predictions)) / len(test_x)"
   ]
  },
  {
   "cell_type": "code",
   "execution_count": 72,
   "metadata": {
    "collapsed": false
   },
   "outputs": [
    {
     "name": "stdout",
     "output_type": "stream",
     "text": [
      "pos: 0\n",
      "pos: 50\n",
      "pos: 100\n",
      "pos: 150\n",
      "pos: 200\n",
      "pos: 250\n",
      "pos: 300\n",
      "pos: 350\n",
      "pos: 400\n",
      "pos: 450\n",
      "pos: 500\n",
      "pos: 550\n",
      "pos: 600\n",
      "Finished Train - pos\n",
      "neg: 0\n",
      "neg: 50\n",
      "neg: 100\n",
      "neg: 150\n",
      "neg: 200\n",
      "neg: 250\n",
      "neg: 300\n",
      "neg: 350\n",
      "neg: 400\n",
      "neg: 450\n",
      "neg: 500\n",
      "neg: 550\n",
      "neg: 600\n",
      "neg: 650\n",
      "neg: 700\n",
      "neg: 750\n",
      "neg: 800\n",
      "neg: 850\n",
      "neg: 900\n",
      "Finished Train - neg\n",
      "(1526, 3780) (1526, 1)\n"
     ]
    }
   ],
   "source": [
    "train_x, train_y = get_set(folder, folder_suffix, phase=train_suffix, N=None)\n",
    "print(train_x.shape, train_y.shape)"
   ]
  },
  {
   "cell_type": "code",
   "execution_count": 73,
   "metadata": {
    "collapsed": false
   },
   "outputs": [
    {
     "data": {
      "text/plain": [
       "LinearSVC(C=0.01, class_weight=None, dual=True, fit_intercept=True,\n",
       "     intercept_scaling=1, loss='squared_hinge', max_iter=1000,\n",
       "     multi_class='ovr', penalty='l2', random_state=None, tol=0.0001,\n",
       "     verbose=0)"
      ]
     },
     "execution_count": 73,
     "metadata": {},
     "output_type": "execute_result"
    }
   ],
   "source": [
    "clf = svm.LinearSVC(C=0.01)\n",
    "clf.fit(train_x, train_y.ravel())"
   ]
  },
  {
   "cell_type": "code",
   "execution_count": 74,
   "metadata": {
    "collapsed": false
   },
   "outputs": [
    {
     "name": "stdout",
     "output_type": "stream",
     "text": [
      "pos: 0\n",
      "pos: 50\n",
      "pos: 100\n",
      "pos: 150\n",
      "pos: 200\n",
      "pos: 250\n",
      "Finished Test - pos\n",
      "neg: 0\n",
      "neg: 50\n",
      "neg: 100\n",
      "neg: 150\n",
      "neg: 200\n",
      "neg: 250\n",
      "Finished Test - neg\n",
      "(588, 3780) (588, 1)\n"
     ]
    }
   ],
   "source": [
    "test_x, test_y = get_set(folder, folder_suffix, phase=test_suffix, N=None)\n",
    "print(test_x.shape, test_y.shape)"
   ]
  },
  {
   "cell_type": "code",
   "execution_count": 76,
   "metadata": {
    "collapsed": false
   },
   "outputs": [
    {
     "data": {
      "text/plain": [
       "0.8367346938775511"
      ]
     },
     "execution_count": 76,
     "metadata": {},
     "output_type": "execute_result"
    }
   ],
   "source": [
    "test_accuracy(clf, test_x, test_y)"
   ]
  }
 ],
 "metadata": {
  "kernelspec": {
   "display_name": "Python 3",
   "language": "python",
   "name": "python3"
  },
  "language_info": {
   "codemirror_mode": {
    "name": "ipython",
    "version": 3
   },
   "file_extension": ".py",
   "mimetype": "text/x-python",
   "name": "python",
   "nbconvert_exporter": "python",
   "pygments_lexer": "ipython3",
   "version": "3.6.0"
  }
 },
 "nbformat": 4,
 "nbformat_minor": 2
}
