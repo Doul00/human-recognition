{
 "cells": [
  {
   "cell_type": "code",
   "execution_count": 1,
   "metadata": {
    "collapsed": false
   },
   "outputs": [],
   "source": [
    "import glob\n",
    "import sys\n",
    "import os\n",
    "\n",
    "from sklearn import svm\n",
    "import numpy as np\n",
    "from scipy.misc import imread\n",
    "\n",
    "import hog"
   ]
  },
  {
   "cell_type": "code",
   "execution_count": 2,
   "metadata": {
    "collapsed": true
   },
   "outputs": [],
   "source": [
    "folder = 'INRIAPerson'\n",
    "folder_suffix = '_64x128_H96'"
   ]
  },
  {
   "cell_type": "code",
   "execution_count": 48,
   "metadata": {
    "collapsed": true
   },
   "outputs": [],
   "source": [
    "def get_N_images(folder, folder_suffix, phase='train', validity='pos', N=None, verbose=False):\n",
    "    path_regex = os.path.join(folder, phase + folder_suffix, validity, '*.png')\n",
    "    array = []\n",
    "        \n",
    "    for n, img_path in enumerate(glob.iglob(path_regex)):\n",
    "        if N is not None and n >= N:\n",
    "            return array\n",
    "        if verbose and n % 50 == 0:\n",
    "            print('{}: {}'.format(validity, n))\n",
    "        array.append(get_image(img_path))\n",
    "    \n",
    "    if verbose:\n",
    "        print('Finished {} - {}'.format(phase, validity))\n",
    "    return array\n",
    "\n",
    "\n",
    "def get_image(img_path):\n",
    "    return hog.get_hog_features(img_path)\n",
    "\n",
    "\n",
    "def get_N_targets(validity='pos', N=100):\n",
    "    if validity == 'pos':\n",
    "        return np.ones((N, 1))\n",
    "    return np.zeros((N, 1))"
   ]
  },
  {
   "cell_type": "code",
   "execution_count": 51,
   "metadata": {
    "collapsed": false
   },
   "outputs": [
    {
     "name": "stdout",
     "output_type": "stream",
     "text": [
      "pos: 0\n",
      "pos: 50\n",
      "pos: 100\n",
      "pos: 150\n",
      "pos: 200\n",
      "pos: 250\n",
      "pos: 300\n",
      "pos: 350\n",
      "pos: 400\n",
      "pos: 450\n",
      "pos: 500\n",
      "pos: 550\n",
      "pos: 600\n",
      "pos: 650\n",
      "pos: 700\n",
      "pos: 750\n",
      "pos: 800\n",
      "pos: 850\n",
      "pos: 900\n",
      "pos: 950\n",
      "pos: 1000\n",
      "pos: 1050\n",
      "pos: 1100\n",
      "pos: 1150\n",
      "pos: 1200\n",
      "pos: 1250\n",
      "pos: 1300\n",
      "pos: 1350\n",
      "pos: 1400\n",
      "pos: 1450\n",
      "pos: 1500\n",
      "pos: 1550\n",
      "pos: 1600\n",
      "pos: 1650\n",
      "pos: 1700\n",
      "pos: 1750\n",
      "pos: 1800\n",
      "pos: 1850\n",
      "pos: 1900\n",
      "pos: 1950\n",
      "pos: 2000\n",
      "pos: 2050\n",
      "pos: 2100\n",
      "pos: 2150\n",
      "pos: 2200\n",
      "pos: 2250\n",
      "pos: 2300\n",
      "pos: 2350\n",
      "pos: 2400\n",
      "Finished train - pos\n",
      "neg: 0\n",
      "neg: 50\n",
      "neg: 100\n",
      "neg: 150\n",
      "neg: 200\n",
      "neg: 250\n",
      "neg: 300\n",
      "neg: 350\n",
      "neg: 400\n",
      "neg: 450\n",
      "neg: 500\n",
      "neg: 550\n",
      "neg: 600\n",
      "neg: 650\n",
      "neg: 700\n",
      "neg: 750\n",
      "neg: 800\n",
      "neg: 850\n",
      "neg: 900\n",
      "Finished train - neg\n"
     ]
    }
   ],
   "source": [
    "train_x_pos = get_N_images(folder, folder_suffix, phase='train', validity='pos', verbose=True, N=None)\n",
    "train_x_neg = get_N_images(folder, folder_suffix, phase='train', validity='neg', verbose=True, N=None)\n",
    "train_x = np.array(train_x_pos + train_x_neg).astype('float32')\n",
    "\n",
    "train_y = np.concatenate((get_N_targets(validity='pos', N=len(train_x_pos)),\n",
    "                          get_N_targets(validity='neg', N=len(train_x_neg))))"
   ]
  },
  {
   "cell_type": "code",
   "execution_count": 52,
   "metadata": {
    "collapsed": false
   },
   "outputs": [
    {
     "name": "stdout",
     "output_type": "stream",
     "text": [
      "(3328, 3780) (3328, 1)\n"
     ]
    }
   ],
   "source": [
    "print(train_x.shape, train_y.shape)"
   ]
  },
  {
   "cell_type": "code",
   "execution_count": 53,
   "metadata": {
    "collapsed": false
   },
   "outputs": [
    {
     "data": {
      "text/plain": [
       "LinearSVC(C=0.01, class_weight=None, dual=True, fit_intercept=True,\n",
       "     intercept_scaling=1, loss='squared_hinge', max_iter=1000,\n",
       "     multi_class='ovr', penalty='l2', random_state=None, tol=0.0001,\n",
       "     verbose=0)"
      ]
     },
     "execution_count": 53,
     "metadata": {},
     "output_type": "execute_result"
    }
   ],
   "source": [
    "clf = svm.LinearSVC(C=0.01)\n",
    "clf.fit(train_x, train_y.ravel())"
   ]
  },
  {
   "cell_type": "code",
   "execution_count": 58,
   "metadata": {
    "collapsed": false
   },
   "outputs": [
    {
     "name": "stdout",
     "output_type": "stream",
     "text": [
      "pos: 0\n",
      "pos: 50\n",
      "pos: 100\n",
      "pos: 150\n",
      "pos: 200\n",
      "pos: 250\n",
      "pos: 300\n",
      "pos: 350\n",
      "pos: 400\n",
      "pos: 450\n",
      "pos: 500\n",
      "pos: 550\n",
      "pos: 600\n",
      "pos: 650\n",
      "pos: 700\n",
      "pos: 750\n",
      "pos: 800\n",
      "pos: 850\n",
      "pos: 900\n",
      "pos: 950\n",
      "pos: 1000\n",
      "pos: 1050\n",
      "pos: 1100\n",
      "Finished test - pos\n",
      "neg: 0\n",
      "neg: 50\n",
      "neg: 100\n",
      "neg: 150\n",
      "neg: 200\n",
      "neg: 250\n",
      "Finished test - neg\n"
     ]
    }
   ],
   "source": [
    "test_x_pos = get_N_images(folder, folder_suffix, phase='test', validity='pos', verbose=True, N=None)\n",
    "test_x_neg = get_N_images(folder, folder_suffix, phase='test', validity='neg', verbose=True, N=None)\n",
    "test_x = np.array(test_x_pos + test_x_neg).astype('float32')\n",
    "\n",
    "test_y = np.concatenate((get_N_targets(validity='pos', N=len(test_x_pos)),\n",
    "                          get_N_targets(validity='neg', N=len(test_x_neg))))"
   ]
  },
  {
   "cell_type": "code",
   "execution_count": 60,
   "metadata": {
    "collapsed": false
   },
   "outputs": [
    {
     "name": "stdout",
     "output_type": "stream",
     "text": [
      "(1426, 3780) (1426, 1)\n"
     ]
    }
   ],
   "source": [
    "print(test_x.shape, test_y.shape)"
   ]
  },
  {
   "cell_type": "code",
   "execution_count": 61,
   "metadata": {
    "collapsed": false
   },
   "outputs": [],
   "source": [
    "predictions = clf.predict(test_x)"
   ]
  },
  {
   "cell_type": "code",
   "execution_count": 63,
   "metadata": {
    "collapsed": false
   },
   "outputs": [
    {
     "data": {
      "text/plain": [
       "0.967741935483871"
      ]
     },
     "execution_count": 63,
     "metadata": {},
     "output_type": "execute_result"
    }
   ],
   "source": [
    "sum(1 if real == prediction else 0 for real, prediction in zip(test_y, predictions)) / len(test_x)"
   ]
  },
  {
   "cell_type": "code",
   "execution_count": 64,
   "metadata": {
    "collapsed": false
   },
   "outputs": [
    {
     "data": {
      "text/plain": [
       "array([ 0.])"
      ]
     },
     "execution_count": 64,
     "metadata": {},
     "output_type": "execute_result"
    }
   ],
   "source": [
    "t = 'INRIAPerson/test_64x128_H96/neg/no_person__no_bike_006.png'\n",
    "clf.predict(np.array(get_image(t)).reshape(1, -1))"
   ]
  },
  {
   "cell_type": "code",
   "execution_count": 65,
   "metadata": {
    "collapsed": false
   },
   "outputs": [
    {
     "data": {
      "text/plain": [
       "array([ 1.])"
      ]
     },
     "execution_count": 65,
     "metadata": {},
     "output_type": "execute_result"
    }
   ],
   "source": [
    "t = 'INRIAPerson/train_64x128_H96/pos/person_165a.png'\n",
    "clf.predict(np.array(get_image(t)).reshape(1, -1))"
   ]
  },
  {
   "cell_type": "code",
   "execution_count": null,
   "metadata": {
    "collapsed": true
   },
   "outputs": [],
   "source": []
  }
 ],
 "metadata": {
  "kernelspec": {
   "display_name": "Python 3",
   "language": "python",
   "name": "python3"
  },
  "language_info": {
   "codemirror_mode": {
    "name": "ipython",
    "version": 3
   },
   "file_extension": ".py",
   "mimetype": "text/x-python",
   "name": "python",
   "nbconvert_exporter": "python",
   "pygments_lexer": "ipython3",
   "version": "3.6.0"
  }
 },
 "nbformat": 4,
 "nbformat_minor": 2
}
